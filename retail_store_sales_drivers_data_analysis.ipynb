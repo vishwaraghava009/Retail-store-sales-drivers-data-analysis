{
  "nbformat": 4,
  "nbformat_minor": 0,
  "metadata": {
    "colab": {
      "provenance": [],
      "mount_file_id": "1EKJl0I4QavyXZBU8XGwVsI_ecCYHs6hv",
      "authorship_tag": "ABX9TyMqnuU2dslSn7uiwglUeKlm",
      "include_colab_link": true
    },
    "kernelspec": {
      "name": "python3",
      "display_name": "Python 3"
    },
    "language_info": {
      "name": "python"
    }
  },
  "cells": [
    {
      "cell_type": "markdown",
      "metadata": {
        "id": "view-in-github",
        "colab_type": "text"
      },
      "source": [
        "<a href=\"https://colab.research.google.com/github/vishwaraghava009/Retail-store-sales-drivers-data-analysis/blob/main/retail_store_sales_drivers_data_analysis.ipynb\" target=\"_parent\"><img src=\"https://colab.research.google.com/assets/colab-badge.svg\" alt=\"Open In Colab\"/></a>"
      ]
    },
    {
      "cell_type": "markdown",
      "source": [
        "# Data Analysis of Retail Store Sales' drivers using Multilinear Regression model."
      ],
      "metadata": {
        "id": "eYDUkJUrTP99"
      }
    },
    {
      "cell_type": "markdown",
      "source": [
        "The workflow is as follows:\n",
        "\n",
        "\n",
        "1.   Pick the variables.\n",
        "2.   Analyze the\n",
        "data.\n",
        "3. Correlation\n",
        "Matrix.\n",
        "4. Training and\n",
        "Test Set.\n",
        "5. Multilinear\n",
        "Regression.\n",
        "6. Accuracy\n",
        "Assessment.\n",
        "\n"
      ],
      "metadata": {
        "id": "hakRM5WiT5KV"
      }
    },
    {
      "cell_type": "markdown",
      "source": [
        "Before going through the workflow let's import the required libraries and data"
      ],
      "metadata": {
        "id": "wUsHjEowUk4z"
      }
    },
    {
      "cell_type": "markdown",
      "source": [
        "## Libraries, directory and data"
      ],
      "metadata": {
        "id": "4rPFGQrsU3T-"
      }
    },
    {
      "cell_type": "code",
      "source": [
        "%cd /content/drive/MyDrive/Business Analyst course-20230613T154859Z-001/Business Analyst course/Statistics and Descriptive Analytics/Multilinear Regression"
      ],
      "metadata": {
        "colab": {
          "base_uri": "https://localhost:8080/"
        },
        "id": "HHYsiJgGU_I_",
        "outputId": "04b4252b-9717-42f5-f0d4-b9d5e0e97433"
      },
      "execution_count": null,
      "outputs": [
        {
          "output_type": "stream",
          "name": "stdout",
          "text": [
            "/content/drive/MyDrive/Business Analyst course-20230613T154859Z-001/Business Analyst course/Statistics and Descriptive Analytics/Multilinear Regression\n"
          ]
        }
      ]
    },
    {
      "cell_type": "code",
      "source": [
        "#libraries\n",
        "import pandas as pd\n",
        "import statsmodels.api as sm\n",
        "import numpy as np\n",
        "import seaborn as sns"
      ],
      "metadata": {
        "id": "kg6u2zgoVT7D"
      },
      "execution_count": null,
      "outputs": []
    },
    {
      "cell_type": "code",
      "source": [
        "#load the data\n",
        "df = pd.read_csv(\"Clothing.csv\")\n",
        "df.head()"
      ],
      "metadata": {
        "colab": {
          "base_uri": "https://localhost:8080/",
          "height": 270
        },
        "id": "Iz1FuMM0VYgH",
        "outputId": "72a37031-7530-4346-f5fa-c3596f88ad99"
      },
      "execution_count": null,
      "outputs": [
        {
          "output_type": "execute_result",
          "data": {
            "text/plain": [
              "    tsales      sales  margin  nown   nfull   npart    naux  hoursw   hourspw  \\\n",
              "0   750000   4411.765    41.0   1.0  1.0000  1.0000  1.5357      76  16.75596   \n",
              "1  1926395   4280.878    39.0   2.0  2.0000  3.0000  1.5357     192  22.49376   \n",
              "2  1250000   4166.667    40.0   1.0  2.0000  2.2222  1.4091     114  17.19120   \n",
              "3   694227   2670.104    40.0   1.0  1.0000  1.2833  1.3673     100  21.50260   \n",
              "4   750000  15000.000    44.0   2.0  1.9556  1.2833  1.3673     104  15.74279   \n",
              "\n",
              "        inv1      inv2  ssize  start  \n",
              "0   17166.67  27177.04    170   41.0  \n",
              "1   17166.67  27177.04    450   39.0  \n",
              "2  292857.20  71570.55    300   40.0  \n",
              "3   22207.04  15000.00    260   40.0  \n",
              "4   22207.04  10000.00     50   44.0  "
            ],
            "text/html": [
              "\n",
              "  <div id=\"df-90177d28-60a8-45bb-87bc-201d469432de\">\n",
              "    <div class=\"colab-df-container\">\n",
              "      <div>\n",
              "<style scoped>\n",
              "    .dataframe tbody tr th:only-of-type {\n",
              "        vertical-align: middle;\n",
              "    }\n",
              "\n",
              "    .dataframe tbody tr th {\n",
              "        vertical-align: top;\n",
              "    }\n",
              "\n",
              "    .dataframe thead th {\n",
              "        text-align: right;\n",
              "    }\n",
              "</style>\n",
              "<table border=\"1\" class=\"dataframe\">\n",
              "  <thead>\n",
              "    <tr style=\"text-align: right;\">\n",
              "      <th></th>\n",
              "      <th>tsales</th>\n",
              "      <th>sales</th>\n",
              "      <th>margin</th>\n",
              "      <th>nown</th>\n",
              "      <th>nfull</th>\n",
              "      <th>npart</th>\n",
              "      <th>naux</th>\n",
              "      <th>hoursw</th>\n",
              "      <th>hourspw</th>\n",
              "      <th>inv1</th>\n",
              "      <th>inv2</th>\n",
              "      <th>ssize</th>\n",
              "      <th>start</th>\n",
              "    </tr>\n",
              "  </thead>\n",
              "  <tbody>\n",
              "    <tr>\n",
              "      <th>0</th>\n",
              "      <td>750000</td>\n",
              "      <td>4411.765</td>\n",
              "      <td>41.0</td>\n",
              "      <td>1.0</td>\n",
              "      <td>1.0000</td>\n",
              "      <td>1.0000</td>\n",
              "      <td>1.5357</td>\n",
              "      <td>76</td>\n",
              "      <td>16.75596</td>\n",
              "      <td>17166.67</td>\n",
              "      <td>27177.04</td>\n",
              "      <td>170</td>\n",
              "      <td>41.0</td>\n",
              "    </tr>\n",
              "    <tr>\n",
              "      <th>1</th>\n",
              "      <td>1926395</td>\n",
              "      <td>4280.878</td>\n",
              "      <td>39.0</td>\n",
              "      <td>2.0</td>\n",
              "      <td>2.0000</td>\n",
              "      <td>3.0000</td>\n",
              "      <td>1.5357</td>\n",
              "      <td>192</td>\n",
              "      <td>22.49376</td>\n",
              "      <td>17166.67</td>\n",
              "      <td>27177.04</td>\n",
              "      <td>450</td>\n",
              "      <td>39.0</td>\n",
              "    </tr>\n",
              "    <tr>\n",
              "      <th>2</th>\n",
              "      <td>1250000</td>\n",
              "      <td>4166.667</td>\n",
              "      <td>40.0</td>\n",
              "      <td>1.0</td>\n",
              "      <td>2.0000</td>\n",
              "      <td>2.2222</td>\n",
              "      <td>1.4091</td>\n",
              "      <td>114</td>\n",
              "      <td>17.19120</td>\n",
              "      <td>292857.20</td>\n",
              "      <td>71570.55</td>\n",
              "      <td>300</td>\n",
              "      <td>40.0</td>\n",
              "    </tr>\n",
              "    <tr>\n",
              "      <th>3</th>\n",
              "      <td>694227</td>\n",
              "      <td>2670.104</td>\n",
              "      <td>40.0</td>\n",
              "      <td>1.0</td>\n",
              "      <td>1.0000</td>\n",
              "      <td>1.2833</td>\n",
              "      <td>1.3673</td>\n",
              "      <td>100</td>\n",
              "      <td>21.50260</td>\n",
              "      <td>22207.04</td>\n",
              "      <td>15000.00</td>\n",
              "      <td>260</td>\n",
              "      <td>40.0</td>\n",
              "    </tr>\n",
              "    <tr>\n",
              "      <th>4</th>\n",
              "      <td>750000</td>\n",
              "      <td>15000.000</td>\n",
              "      <td>44.0</td>\n",
              "      <td>2.0</td>\n",
              "      <td>1.9556</td>\n",
              "      <td>1.2833</td>\n",
              "      <td>1.3673</td>\n",
              "      <td>104</td>\n",
              "      <td>15.74279</td>\n",
              "      <td>22207.04</td>\n",
              "      <td>10000.00</td>\n",
              "      <td>50</td>\n",
              "      <td>44.0</td>\n",
              "    </tr>\n",
              "  </tbody>\n",
              "</table>\n",
              "</div>\n",
              "      <button class=\"colab-df-convert\" onclick=\"convertToInteractive('df-90177d28-60a8-45bb-87bc-201d469432de')\"\n",
              "              title=\"Convert this dataframe to an interactive table.\"\n",
              "              style=\"display:none;\">\n",
              "        \n",
              "  <svg xmlns=\"http://www.w3.org/2000/svg\" height=\"24px\"viewBox=\"0 0 24 24\"\n",
              "       width=\"24px\">\n",
              "    <path d=\"M0 0h24v24H0V0z\" fill=\"none\"/>\n",
              "    <path d=\"M18.56 5.44l.94 2.06.94-2.06 2.06-.94-2.06-.94-.94-2.06-.94 2.06-2.06.94zm-11 1L8.5 8.5l.94-2.06 2.06-.94-2.06-.94L8.5 2.5l-.94 2.06-2.06.94zm10 10l.94 2.06.94-2.06 2.06-.94-2.06-.94-.94-2.06-.94 2.06-2.06.94z\"/><path d=\"M17.41 7.96l-1.37-1.37c-.4-.4-.92-.59-1.43-.59-.52 0-1.04.2-1.43.59L10.3 9.45l-7.72 7.72c-.78.78-.78 2.05 0 2.83L4 21.41c.39.39.9.59 1.41.59.51 0 1.02-.2 1.41-.59l7.78-7.78 2.81-2.81c.8-.78.8-2.07 0-2.86zM5.41 20L4 18.59l7.72-7.72 1.47 1.35L5.41 20z\"/>\n",
              "  </svg>\n",
              "      </button>\n",
              "      \n",
              "  <style>\n",
              "    .colab-df-container {\n",
              "      display:flex;\n",
              "      flex-wrap:wrap;\n",
              "      gap: 12px;\n",
              "    }\n",
              "\n",
              "    .colab-df-convert {\n",
              "      background-color: #E8F0FE;\n",
              "      border: none;\n",
              "      border-radius: 50%;\n",
              "      cursor: pointer;\n",
              "      display: none;\n",
              "      fill: #1967D2;\n",
              "      height: 32px;\n",
              "      padding: 0 0 0 0;\n",
              "      width: 32px;\n",
              "    }\n",
              "\n",
              "    .colab-df-convert:hover {\n",
              "      background-color: #E2EBFA;\n",
              "      box-shadow: 0px 1px 2px rgba(60, 64, 67, 0.3), 0px 1px 3px 1px rgba(60, 64, 67, 0.15);\n",
              "      fill: #174EA6;\n",
              "    }\n",
              "\n",
              "    [theme=dark] .colab-df-convert {\n",
              "      background-color: #3B4455;\n",
              "      fill: #D2E3FC;\n",
              "    }\n",
              "\n",
              "    [theme=dark] .colab-df-convert:hover {\n",
              "      background-color: #434B5C;\n",
              "      box-shadow: 0px 1px 3px 1px rgba(0, 0, 0, 0.15);\n",
              "      filter: drop-shadow(0px 1px 2px rgba(0, 0, 0, 0.3));\n",
              "      fill: #FFFFFF;\n",
              "    }\n",
              "  </style>\n",
              "\n",
              "      <script>\n",
              "        const buttonEl =\n",
              "          document.querySelector('#df-90177d28-60a8-45bb-87bc-201d469432de button.colab-df-convert');\n",
              "        buttonEl.style.display =\n",
              "          google.colab.kernel.accessAllowed ? 'block' : 'none';\n",
              "\n",
              "        async function convertToInteractive(key) {\n",
              "          const element = document.querySelector('#df-90177d28-60a8-45bb-87bc-201d469432de');\n",
              "          const dataTable =\n",
              "            await google.colab.kernel.invokeFunction('convertToInteractive',\n",
              "                                                     [key], {});\n",
              "          if (!dataTable) return;\n",
              "\n",
              "          const docLinkHtml = 'Like what you see? Visit the ' +\n",
              "            '<a target=\"_blank\" href=https://colab.research.google.com/notebooks/data_table.ipynb>data table notebook</a>'\n",
              "            + ' to learn more about interactive tables.';\n",
              "          element.innerHTML = '';\n",
              "          dataTable['output_type'] = 'display_data';\n",
              "          await google.colab.output.renderOutput(dataTable, element);\n",
              "          const docLink = document.createElement('div');\n",
              "          docLink.innerHTML = docLinkHtml;\n",
              "          element.appendChild(docLink);\n",
              "        }\n",
              "      </script>\n",
              "    </div>\n",
              "  </div>\n",
              "  "
            ]
          },
          "metadata": {},
          "execution_count": 5
        }
      ]
    },
    {
      "cell_type": "markdown",
      "source": [
        "## 1. Picking the Variables"
      ],
      "metadata": {
        "id": "U9OrWaiSVmdX"
      }
    },
    {
      "cell_type": "markdown",
      "source": [
        "The more reasonable variables to pick for multilinear regression are:\n",
        "* annual sales in Dutch guilders, `tsales`\n",
        "* gross-profit-margin, `margin`\n",
        "* number of owners (managers), `nown`\n",
        "* investment in shop-premises, `inv1`\n",
        "* investment in automation, `inv2`\n",
        "* sales floor space of the store, `ssize`\n",
        "* year start of business, `start`"
      ],
      "metadata": {
        "id": "b4PyuZn-Wcmk"
      }
    },
    {
      "cell_type": "markdown",
      "source": [
        "The reason why no.of hours worked, full-time and part-time workers are not picked for multi linear regression is because they are correalted with the tsales in both the directions, i.e, if sales gets incresed then no.of workers and working hours gets increased and simillarly if no.of workers and working hours gets increased then sales gets increased.\n",
        "\n",
        "So, picking them will not add a great value."
      ],
      "metadata": {
        "id": "kAMEF7_iXyS7"
      }
    },
    {
      "cell_type": "code",
      "source": [
        "df = df[[\"tsales\", \"margin\", \"nown\", \"inv1\", \"inv2\", \"ssize\", \"start\"]]\n",
        "df.head()"
      ],
      "metadata": {
        "colab": {
          "base_uri": "https://localhost:8080/",
          "height": 206
        },
        "id": "HyZiRNxzWu7i",
        "outputId": "08a6f4cf-f7ce-4d86-8fdb-77c5bf164398"
      },
      "execution_count": null,
      "outputs": [
        {
          "output_type": "execute_result",
          "data": {
            "text/plain": [
              "    tsales  margin  nown       inv1      inv2  ssize  start\n",
              "0   750000    41.0   1.0   17166.67  27177.04    170   41.0\n",
              "1  1926395    39.0   2.0   17166.67  27177.04    450   39.0\n",
              "2  1250000    40.0   1.0  292857.20  71570.55    300   40.0\n",
              "3   694227    40.0   1.0   22207.04  15000.00    260   40.0\n",
              "4   750000    44.0   2.0   22207.04  10000.00     50   44.0"
            ],
            "text/html": [
              "\n",
              "  <div id=\"df-8deefa86-a17e-4951-9ae0-6ee9484077f5\">\n",
              "    <div class=\"colab-df-container\">\n",
              "      <div>\n",
              "<style scoped>\n",
              "    .dataframe tbody tr th:only-of-type {\n",
              "        vertical-align: middle;\n",
              "    }\n",
              "\n",
              "    .dataframe tbody tr th {\n",
              "        vertical-align: top;\n",
              "    }\n",
              "\n",
              "    .dataframe thead th {\n",
              "        text-align: right;\n",
              "    }\n",
              "</style>\n",
              "<table border=\"1\" class=\"dataframe\">\n",
              "  <thead>\n",
              "    <tr style=\"text-align: right;\">\n",
              "      <th></th>\n",
              "      <th>tsales</th>\n",
              "      <th>margin</th>\n",
              "      <th>nown</th>\n",
              "      <th>inv1</th>\n",
              "      <th>inv2</th>\n",
              "      <th>ssize</th>\n",
              "      <th>start</th>\n",
              "    </tr>\n",
              "  </thead>\n",
              "  <tbody>\n",
              "    <tr>\n",
              "      <th>0</th>\n",
              "      <td>750000</td>\n",
              "      <td>41.0</td>\n",
              "      <td>1.0</td>\n",
              "      <td>17166.67</td>\n",
              "      <td>27177.04</td>\n",
              "      <td>170</td>\n",
              "      <td>41.0</td>\n",
              "    </tr>\n",
              "    <tr>\n",
              "      <th>1</th>\n",
              "      <td>1926395</td>\n",
              "      <td>39.0</td>\n",
              "      <td>2.0</td>\n",
              "      <td>17166.67</td>\n",
              "      <td>27177.04</td>\n",
              "      <td>450</td>\n",
              "      <td>39.0</td>\n",
              "    </tr>\n",
              "    <tr>\n",
              "      <th>2</th>\n",
              "      <td>1250000</td>\n",
              "      <td>40.0</td>\n",
              "      <td>1.0</td>\n",
              "      <td>292857.20</td>\n",
              "      <td>71570.55</td>\n",
              "      <td>300</td>\n",
              "      <td>40.0</td>\n",
              "    </tr>\n",
              "    <tr>\n",
              "      <th>3</th>\n",
              "      <td>694227</td>\n",
              "      <td>40.0</td>\n",
              "      <td>1.0</td>\n",
              "      <td>22207.04</td>\n",
              "      <td>15000.00</td>\n",
              "      <td>260</td>\n",
              "      <td>40.0</td>\n",
              "    </tr>\n",
              "    <tr>\n",
              "      <th>4</th>\n",
              "      <td>750000</td>\n",
              "      <td>44.0</td>\n",
              "      <td>2.0</td>\n",
              "      <td>22207.04</td>\n",
              "      <td>10000.00</td>\n",
              "      <td>50</td>\n",
              "      <td>44.0</td>\n",
              "    </tr>\n",
              "  </tbody>\n",
              "</table>\n",
              "</div>\n",
              "      <button class=\"colab-df-convert\" onclick=\"convertToInteractive('df-8deefa86-a17e-4951-9ae0-6ee9484077f5')\"\n",
              "              title=\"Convert this dataframe to an interactive table.\"\n",
              "              style=\"display:none;\">\n",
              "        \n",
              "  <svg xmlns=\"http://www.w3.org/2000/svg\" height=\"24px\"viewBox=\"0 0 24 24\"\n",
              "       width=\"24px\">\n",
              "    <path d=\"M0 0h24v24H0V0z\" fill=\"none\"/>\n",
              "    <path d=\"M18.56 5.44l.94 2.06.94-2.06 2.06-.94-2.06-.94-.94-2.06-.94 2.06-2.06.94zm-11 1L8.5 8.5l.94-2.06 2.06-.94-2.06-.94L8.5 2.5l-.94 2.06-2.06.94zm10 10l.94 2.06.94-2.06 2.06-.94-2.06-.94-.94-2.06-.94 2.06-2.06.94z\"/><path d=\"M17.41 7.96l-1.37-1.37c-.4-.4-.92-.59-1.43-.59-.52 0-1.04.2-1.43.59L10.3 9.45l-7.72 7.72c-.78.78-.78 2.05 0 2.83L4 21.41c.39.39.9.59 1.41.59.51 0 1.02-.2 1.41-.59l7.78-7.78 2.81-2.81c.8-.78.8-2.07 0-2.86zM5.41 20L4 18.59l7.72-7.72 1.47 1.35L5.41 20z\"/>\n",
              "  </svg>\n",
              "      </button>\n",
              "      \n",
              "  <style>\n",
              "    .colab-df-container {\n",
              "      display:flex;\n",
              "      flex-wrap:wrap;\n",
              "      gap: 12px;\n",
              "    }\n",
              "\n",
              "    .colab-df-convert {\n",
              "      background-color: #E8F0FE;\n",
              "      border: none;\n",
              "      border-radius: 50%;\n",
              "      cursor: pointer;\n",
              "      display: none;\n",
              "      fill: #1967D2;\n",
              "      height: 32px;\n",
              "      padding: 0 0 0 0;\n",
              "      width: 32px;\n",
              "    }\n",
              "\n",
              "    .colab-df-convert:hover {\n",
              "      background-color: #E2EBFA;\n",
              "      box-shadow: 0px 1px 2px rgba(60, 64, 67, 0.3), 0px 1px 3px 1px rgba(60, 64, 67, 0.15);\n",
              "      fill: #174EA6;\n",
              "    }\n",
              "\n",
              "    [theme=dark] .colab-df-convert {\n",
              "      background-color: #3B4455;\n",
              "      fill: #D2E3FC;\n",
              "    }\n",
              "\n",
              "    [theme=dark] .colab-df-convert:hover {\n",
              "      background-color: #434B5C;\n",
              "      box-shadow: 0px 1px 3px 1px rgba(0, 0, 0, 0.15);\n",
              "      filter: drop-shadow(0px 1px 2px rgba(0, 0, 0, 0.3));\n",
              "      fill: #FFFFFF;\n",
              "    }\n",
              "  </style>\n",
              "\n",
              "      <script>\n",
              "        const buttonEl =\n",
              "          document.querySelector('#df-8deefa86-a17e-4951-9ae0-6ee9484077f5 button.colab-df-convert');\n",
              "        buttonEl.style.display =\n",
              "          google.colab.kernel.accessAllowed ? 'block' : 'none';\n",
              "\n",
              "        async function convertToInteractive(key) {\n",
              "          const element = document.querySelector('#df-8deefa86-a17e-4951-9ae0-6ee9484077f5');\n",
              "          const dataTable =\n",
              "            await google.colab.kernel.invokeFunction('convertToInteractive',\n",
              "                                                     [key], {});\n",
              "          if (!dataTable) return;\n",
              "\n",
              "          const docLinkHtml = 'Like what you see? Visit the ' +\n",
              "            '<a target=\"_blank\" href=https://colab.research.google.com/notebooks/data_table.ipynb>data table notebook</a>'\n",
              "            + ' to learn more about interactive tables.';\n",
              "          element.innerHTML = '';\n",
              "          dataTable['output_type'] = 'display_data';\n",
              "          await google.colab.output.renderOutput(dataTable, element);\n",
              "          const docLink = document.createElement('div');\n",
              "          docLink.innerHTML = docLinkHtml;\n",
              "          element.appendChild(docLink);\n",
              "        }\n",
              "      </script>\n",
              "    </div>\n",
              "  </div>\n",
              "  "
            ]
          },
          "metadata": {},
          "execution_count": 6
        }
      ]
    },
    {
      "cell_type": "markdown",
      "source": [
        "## 2. Data Analysis\n",
        "\n",
        "Performing the summary statistics\n",
        "command enables to get to know\n",
        "better the variables through statistics\n",
        "like the mean, median, and standard\n",
        "deviation"
      ],
      "metadata": {
        "id": "Sfb1xxX-bM3l"
      }
    },
    {
      "cell_type": "code",
      "source": [
        "#Summary statistics\n",
        "df.describe()"
      ],
      "metadata": {
        "colab": {
          "base_uri": "https://localhost:8080/",
          "height": 364
        },
        "id": "itLCbvP0bfYT",
        "outputId": "0039df2d-d653-40cb-84b4-dbd8bce6f228"
      },
      "execution_count": null,
      "outputs": [
        {
          "output_type": "execute_result",
          "data": {
            "text/plain": [
              "             tsales      margin        nown          inv1           inv2  \\\n",
              "count  4.000000e+02  400.000000  400.000000  4.000000e+02     400.000000   \n",
              "mean   8.335842e+05   38.774230    1.283796  5.825726e+04   27829.217000   \n",
              "std    5.834638e+05    5.218184    0.639773  1.075588e+05   41501.943418   \n",
              "min    5.000000e+04   16.000000    1.000000  1.000000e+03     350.000000   \n",
              "25%    4.953400e+05   37.000000    1.000000  2.000000e+04   10000.000000   \n",
              "50%    6.942270e+05   39.000000    1.000000  2.220704e+04   22859.850000   \n",
              "75%    9.768170e+05   41.000000    1.295225  6.226923e+04   22859.850000   \n",
              "max    5.000000e+06   66.000000   10.000000  1.500000e+06  400000.000000   \n",
              "\n",
              "             ssize       start  \n",
              "count   400.000000  400.000000  \n",
              "mean    151.050000   42.808462  \n",
              "std     112.498254   13.296070  \n",
              "min      16.000000   16.000000  \n",
              "25%      80.000000   37.000000  \n",
              "50%     120.000000   40.000000  \n",
              "75%     190.000000   42.000000  \n",
              "max    1214.000000   90.000000  "
            ],
            "text/html": [
              "\n",
              "  <div id=\"df-93b27ab7-d0bb-447c-9c1e-771b14388f2c\">\n",
              "    <div class=\"colab-df-container\">\n",
              "      <div>\n",
              "<style scoped>\n",
              "    .dataframe tbody tr th:only-of-type {\n",
              "        vertical-align: middle;\n",
              "    }\n",
              "\n",
              "    .dataframe tbody tr th {\n",
              "        vertical-align: top;\n",
              "    }\n",
              "\n",
              "    .dataframe thead th {\n",
              "        text-align: right;\n",
              "    }\n",
              "</style>\n",
              "<table border=\"1\" class=\"dataframe\">\n",
              "  <thead>\n",
              "    <tr style=\"text-align: right;\">\n",
              "      <th></th>\n",
              "      <th>tsales</th>\n",
              "      <th>margin</th>\n",
              "      <th>nown</th>\n",
              "      <th>inv1</th>\n",
              "      <th>inv2</th>\n",
              "      <th>ssize</th>\n",
              "      <th>start</th>\n",
              "    </tr>\n",
              "  </thead>\n",
              "  <tbody>\n",
              "    <tr>\n",
              "      <th>count</th>\n",
              "      <td>4.000000e+02</td>\n",
              "      <td>400.000000</td>\n",
              "      <td>400.000000</td>\n",
              "      <td>4.000000e+02</td>\n",
              "      <td>400.000000</td>\n",
              "      <td>400.000000</td>\n",
              "      <td>400.000000</td>\n",
              "    </tr>\n",
              "    <tr>\n",
              "      <th>mean</th>\n",
              "      <td>8.335842e+05</td>\n",
              "      <td>38.774230</td>\n",
              "      <td>1.283796</td>\n",
              "      <td>5.825726e+04</td>\n",
              "      <td>27829.217000</td>\n",
              "      <td>151.050000</td>\n",
              "      <td>42.808462</td>\n",
              "    </tr>\n",
              "    <tr>\n",
              "      <th>std</th>\n",
              "      <td>5.834638e+05</td>\n",
              "      <td>5.218184</td>\n",
              "      <td>0.639773</td>\n",
              "      <td>1.075588e+05</td>\n",
              "      <td>41501.943418</td>\n",
              "      <td>112.498254</td>\n",
              "      <td>13.296070</td>\n",
              "    </tr>\n",
              "    <tr>\n",
              "      <th>min</th>\n",
              "      <td>5.000000e+04</td>\n",
              "      <td>16.000000</td>\n",
              "      <td>1.000000</td>\n",
              "      <td>1.000000e+03</td>\n",
              "      <td>350.000000</td>\n",
              "      <td>16.000000</td>\n",
              "      <td>16.000000</td>\n",
              "    </tr>\n",
              "    <tr>\n",
              "      <th>25%</th>\n",
              "      <td>4.953400e+05</td>\n",
              "      <td>37.000000</td>\n",
              "      <td>1.000000</td>\n",
              "      <td>2.000000e+04</td>\n",
              "      <td>10000.000000</td>\n",
              "      <td>80.000000</td>\n",
              "      <td>37.000000</td>\n",
              "    </tr>\n",
              "    <tr>\n",
              "      <th>50%</th>\n",
              "      <td>6.942270e+05</td>\n",
              "      <td>39.000000</td>\n",
              "      <td>1.000000</td>\n",
              "      <td>2.220704e+04</td>\n",
              "      <td>22859.850000</td>\n",
              "      <td>120.000000</td>\n",
              "      <td>40.000000</td>\n",
              "    </tr>\n",
              "    <tr>\n",
              "      <th>75%</th>\n",
              "      <td>9.768170e+05</td>\n",
              "      <td>41.000000</td>\n",
              "      <td>1.295225</td>\n",
              "      <td>6.226923e+04</td>\n",
              "      <td>22859.850000</td>\n",
              "      <td>190.000000</td>\n",
              "      <td>42.000000</td>\n",
              "    </tr>\n",
              "    <tr>\n",
              "      <th>max</th>\n",
              "      <td>5.000000e+06</td>\n",
              "      <td>66.000000</td>\n",
              "      <td>10.000000</td>\n",
              "      <td>1.500000e+06</td>\n",
              "      <td>400000.000000</td>\n",
              "      <td>1214.000000</td>\n",
              "      <td>90.000000</td>\n",
              "    </tr>\n",
              "  </tbody>\n",
              "</table>\n",
              "</div>\n",
              "      <button class=\"colab-df-convert\" onclick=\"convertToInteractive('df-93b27ab7-d0bb-447c-9c1e-771b14388f2c')\"\n",
              "              title=\"Convert this dataframe to an interactive table.\"\n",
              "              style=\"display:none;\">\n",
              "        \n",
              "  <svg xmlns=\"http://www.w3.org/2000/svg\" height=\"24px\"viewBox=\"0 0 24 24\"\n",
              "       width=\"24px\">\n",
              "    <path d=\"M0 0h24v24H0V0z\" fill=\"none\"/>\n",
              "    <path d=\"M18.56 5.44l.94 2.06.94-2.06 2.06-.94-2.06-.94-.94-2.06-.94 2.06-2.06.94zm-11 1L8.5 8.5l.94-2.06 2.06-.94-2.06-.94L8.5 2.5l-.94 2.06-2.06.94zm10 10l.94 2.06.94-2.06 2.06-.94-2.06-.94-.94-2.06-.94 2.06-2.06.94z\"/><path d=\"M17.41 7.96l-1.37-1.37c-.4-.4-.92-.59-1.43-.59-.52 0-1.04.2-1.43.59L10.3 9.45l-7.72 7.72c-.78.78-.78 2.05 0 2.83L4 21.41c.39.39.9.59 1.41.59.51 0 1.02-.2 1.41-.59l7.78-7.78 2.81-2.81c.8-.78.8-2.07 0-2.86zM5.41 20L4 18.59l7.72-7.72 1.47 1.35L5.41 20z\"/>\n",
              "  </svg>\n",
              "      </button>\n",
              "      \n",
              "  <style>\n",
              "    .colab-df-container {\n",
              "      display:flex;\n",
              "      flex-wrap:wrap;\n",
              "      gap: 12px;\n",
              "    }\n",
              "\n",
              "    .colab-df-convert {\n",
              "      background-color: #E8F0FE;\n",
              "      border: none;\n",
              "      border-radius: 50%;\n",
              "      cursor: pointer;\n",
              "      display: none;\n",
              "      fill: #1967D2;\n",
              "      height: 32px;\n",
              "      padding: 0 0 0 0;\n",
              "      width: 32px;\n",
              "    }\n",
              "\n",
              "    .colab-df-convert:hover {\n",
              "      background-color: #E2EBFA;\n",
              "      box-shadow: 0px 1px 2px rgba(60, 64, 67, 0.3), 0px 1px 3px 1px rgba(60, 64, 67, 0.15);\n",
              "      fill: #174EA6;\n",
              "    }\n",
              "\n",
              "    [theme=dark] .colab-df-convert {\n",
              "      background-color: #3B4455;\n",
              "      fill: #D2E3FC;\n",
              "    }\n",
              "\n",
              "    [theme=dark] .colab-df-convert:hover {\n",
              "      background-color: #434B5C;\n",
              "      box-shadow: 0px 1px 3px 1px rgba(0, 0, 0, 0.15);\n",
              "      filter: drop-shadow(0px 1px 2px rgba(0, 0, 0, 0.3));\n",
              "      fill: #FFFFFF;\n",
              "    }\n",
              "  </style>\n",
              "\n",
              "      <script>\n",
              "        const buttonEl =\n",
              "          document.querySelector('#df-93b27ab7-d0bb-447c-9c1e-771b14388f2c button.colab-df-convert');\n",
              "        buttonEl.style.display =\n",
              "          google.colab.kernel.accessAllowed ? 'block' : 'none';\n",
              "\n",
              "        async function convertToInteractive(key) {\n",
              "          const element = document.querySelector('#df-93b27ab7-d0bb-447c-9c1e-771b14388f2c');\n",
              "          const dataTable =\n",
              "            await google.colab.kernel.invokeFunction('convertToInteractive',\n",
              "                                                     [key], {});\n",
              "          if (!dataTable) return;\n",
              "\n",
              "          const docLinkHtml = 'Like what you see? Visit the ' +\n",
              "            '<a target=\"_blank\" href=https://colab.research.google.com/notebooks/data_table.ipynb>data table notebook</a>'\n",
              "            + ' to learn more about interactive tables.';\n",
              "          element.innerHTML = '';\n",
              "          dataTable['output_type'] = 'display_data';\n",
              "          await google.colab.output.renderOutput(dataTable, element);\n",
              "          const docLink = document.createElement('div');\n",
              "          docLink.innerHTML = docLinkHtml;\n",
              "          element.appendChild(docLink);\n",
              "        }\n",
              "      </script>\n",
              "    </div>\n",
              "  </div>\n",
              "  "
            ]
          },
          "metadata": {},
          "execution_count": 7
        }
      ]
    },
    {
      "cell_type": "markdown",
      "source": [
        "The observations from the above summary are:\n",
        "*  Potentially, we may have extreme outliers, we can see this by comparing the max value to the 75% values."
      ],
      "metadata": {
        "id": "VLRqF_HTbovB"
      }
    },
    {
      "cell_type": "markdown",
      "source": [
        "## 3. Correlation matrix\n",
        "\n",
        "The Correlation Matrix allows you\n",
        "to pick variables for your model.\n",
        "Remember that if the correlation is\n",
        "close to 1 or -1, you may have a\n",
        "multicollinearity issue\n"
      ],
      "metadata": {
        "id": "k_fNLZXvcTRa"
      }
    },
    {
      "cell_type": "code",
      "source": [
        "sns.heatmap(df.corr(),\n",
        "            annot = True,\n",
        "            fmt = '.2g',\n",
        "            center = 0,\n",
        "            cmap = 'coolwarm',\n",
        "            linewidths = 1,\n",
        "            linecolor = 'black');"
      ],
      "metadata": {
        "colab": {
          "base_uri": "https://localhost:8080/",
          "height": 435
        },
        "id": "nFkGc38RcfW9",
        "outputId": "f5a3690f-8c1a-4d8d-c844-11cb9b4ce241"
      },
      "execution_count": null,
      "outputs": [
        {
          "output_type": "display_data",
          "data": {
            "text/plain": [
              "<Figure size 640x480 with 2 Axes>"
            ],
            "image/png": "[encoded data removed]"
          },
          "metadata": {}
        }
      ]
    },
    {
      "cell_type": "markdown",
      "source": [
        "From the correlation matrix we could see a little to no strong correlation between any of the variables."
      ],
      "metadata": {
        "id": "H_vt8S2MrMgu"
      }
    },
    {
      "cell_type": "markdown",
      "source": [
        "Now, let's assign the values fro X and y.\n",
        "\n"
      ],
      "metadata": {
        "id": "bW_2upHts6_r"
      }
    },
    {
      "cell_type": "code",
      "source": [
        "y = df.tsales\n",
        "X = df.drop(columns = [\"tsales\"])\n",
        "X = sm.add_constant(X)"
      ],
      "metadata": {
        "id": "vCiRQqdOtcmc"
      },
      "execution_count": null,
      "outputs": []
    },
    {
      "cell_type": "markdown",
      "source": [
        "## Training and Test Set\n",
        "\n",
        "Create a training and test set with an\n",
        "80/20 split. This allows an unbiased\n",
        "assessment of the model."
      ],
      "metadata": {
        "id": "t54W3dP7sdIy"
      }
    },
    {
      "cell_type": "code",
      "source": [
        "from sklearn.model_selection import train_test_split\n",
        "X_train, X_test, y_train, y_test = train_test_split(X, y,\n",
        "                                                    test_size = 0.2,\n",
        "                                                    random_state = 63)\n",
        "X_train.head()"
      ],
      "metadata": {
        "colab": {
          "base_uri": "https://localhost:8080/",
          "height": 206
        },
        "id": "jN8xJhbBcsOy",
        "outputId": "74702b0b-e007-4fd8-ebfc-d9aefa59538e"
      },
      "execution_count": null,
      "outputs": [
        {
          "output_type": "execute_result",
          "data": {
            "text/plain": [
              "     const   margin    nown       inv1       inv2  ssize    start\n",
              "266    1.0  39.0000  1.0000   22207.04  100000.00    120  39.0000\n",
              "200    1.0  44.0000  1.0000   62269.23    5000.00    140  44.0000\n",
              "197    1.0  41.0000  1.2228   22207.04   22859.85     75  41.0000\n",
              "258    1.0  37.4615  1.2228   22207.04   22859.85     96  41.6731\n",
              "142    1.0  35.0000  2.0000  150000.00   16624.89     80  35.0000"
            ],
            "text/html": [
              "\n",
              "  <div id=\"df-64e33630-5a99-4f2d-848a-ecdc74338d56\">\n",
              "    <div class=\"colab-df-container\">\n",
              "      <div>\n",
              "<style scoped>\n",
              "    .dataframe tbody tr th:only-of-type {\n",
              "        vertical-align: middle;\n",
              "    }\n",
              "\n",
              "    .dataframe tbody tr th {\n",
              "        vertical-align: top;\n",
              "    }\n",
              "\n",
              "    .dataframe thead th {\n",
              "        text-align: right;\n",
              "    }\n",
              "</style>\n",
              "<table border=\"1\" class=\"dataframe\">\n",
              "  <thead>\n",
              "    <tr style=\"text-align: right;\">\n",
              "      <th></th>\n",
              "      <th>const</th>\n",
              "      <th>margin</th>\n",
              "      <th>nown</th>\n",
              "      <th>inv1</th>\n",
              "      <th>inv2</th>\n",
              "      <th>ssize</th>\n",
              "      <th>start</th>\n",
              "    </tr>\n",
              "  </thead>\n",
              "  <tbody>\n",
              "    <tr>\n",
              "      <th>266</th>\n",
              "      <td>1.0</td>\n",
              "      <td>39.0000</td>\n",
              "      <td>1.0000</td>\n",
              "      <td>22207.04</td>\n",
              "      <td>100000.00</td>\n",
              "      <td>120</td>\n",
              "      <td>39.0000</td>\n",
              "    </tr>\n",
              "    <tr>\n",
              "      <th>200</th>\n",
              "      <td>1.0</td>\n",
              "      <td>44.0000</td>\n",
              "      <td>1.0000</td>\n",
              "      <td>62269.23</td>\n",
              "      <td>5000.00</td>\n",
              "      <td>140</td>\n",
              "      <td>44.0000</td>\n",
              "    </tr>\n",
              "    <tr>\n",
              "      <th>197</th>\n",
              "      <td>1.0</td>\n",
              "      <td>41.0000</td>\n",
              "      <td>1.2228</td>\n",
              "      <td>22207.04</td>\n",
              "      <td>22859.85</td>\n",
              "      <td>75</td>\n",
              "      <td>41.0000</td>\n",
              "    </tr>\n",
              "    <tr>\n",
              "      <th>258</th>\n",
              "      <td>1.0</td>\n",
              "      <td>37.4615</td>\n",
              "      <td>1.2228</td>\n",
              "      <td>22207.04</td>\n",
              "      <td>22859.85</td>\n",
              "      <td>96</td>\n",
              "      <td>41.6731</td>\n",
              "    </tr>\n",
              "    <tr>\n",
              "      <th>142</th>\n",
              "      <td>1.0</td>\n",
              "      <td>35.0000</td>\n",
              "      <td>2.0000</td>\n",
              "      <td>150000.00</td>\n",
              "      <td>16624.89</td>\n",
              "      <td>80</td>\n",
              "      <td>35.0000</td>\n",
              "    </tr>\n",
              "  </tbody>\n",
              "</table>\n",
              "</div>\n",
              "      <button class=\"colab-df-convert\" onclick=\"convertToInteractive('df-64e33630-5a99-4f2d-848a-ecdc74338d56')\"\n",
              "              title=\"Convert this dataframe to an interactive table.\"\n",
              "              style=\"display:none;\">\n",
              "        \n",
              "  <svg xmlns=\"http://www.w3.org/2000/svg\" height=\"24px\"viewBox=\"0 0 24 24\"\n",
              "       width=\"24px\">\n",
              "    <path d=\"M0 0h24v24H0V0z\" fill=\"none\"/>\n",
              "    <path d=\"M18.56 5.44l.94 2.06.94-2.06 2.06-.94-2.06-.94-.94-2.06-.94 2.06-2.06.94zm-11 1L8.5 8.5l.94-2.06 2.06-.94-2.06-.94L8.5 2.5l-.94 2.06-2.06.94zm10 10l.94 2.06.94-2.06 2.06-.94-2.06-.94-.94-2.06-.94 2.06-2.06.94z\"/><path d=\"M17.41 7.96l-1.37-1.37c-.4-.4-.92-.59-1.43-.59-.52 0-1.04.2-1.43.59L10.3 9.45l-7.72 7.72c-.78.78-.78 2.05 0 2.83L4 21.41c.39.39.9.59 1.41.59.51 0 1.02-.2 1.41-.59l7.78-7.78 2.81-2.81c.8-.78.8-2.07 0-2.86zM5.41 20L4 18.59l7.72-7.72 1.47 1.35L5.41 20z\"/>\n",
              "  </svg>\n",
              "      </button>\n",
              "      \n",
              "  <style>\n",
              "    .colab-df-container {\n",
              "      display:flex;\n",
              "      flex-wrap:wrap;\n",
              "      gap: 12px;\n",
              "    }\n",
              "\n",
              "    .colab-df-convert {\n",
              "      background-color: #E8F0FE;\n",
              "      border: none;\n",
              "      border-radius: 50%;\n",
              "      cursor: pointer;\n",
              "      display: none;\n",
              "      fill: #1967D2;\n",
              "      height: 32px;\n",
              "      padding: 0 0 0 0;\n",
              "      width: 32px;\n",
              "    }\n",
              "\n",
              "    .colab-df-convert:hover {\n",
              "      background-color: #E2EBFA;\n",
              "      box-shadow: 0px 1px 2px rgba(60, 64, 67, 0.3), 0px 1px 3px 1px rgba(60, 64, 67, 0.15);\n",
              "      fill: #174EA6;\n",
              "    }\n",
              "\n",
              "    [theme=dark] .colab-df-convert {\n",
              "      background-color: #3B4455;\n",
              "      fill: #D2E3FC;\n",
              "    }\n",
              "\n",
              "    [theme=dark] .colab-df-convert:hover {\n",
              "      background-color: #434B5C;\n",
              "      box-shadow: 0px 1px 3px 1px rgba(0, 0, 0, 0.15);\n",
              "      filter: drop-shadow(0px 1px 2px rgba(0, 0, 0, 0.3));\n",
              "      fill: #FFFFFF;\n",
              "    }\n",
              "  </style>\n",
              "\n",
              "      <script>\n",
              "        const buttonEl =\n",
              "          document.querySelector('#df-64e33630-5a99-4f2d-848a-ecdc74338d56 button.colab-df-convert');\n",
              "        buttonEl.style.display =\n",
              "          google.colab.kernel.accessAllowed ? 'block' : 'none';\n",
              "\n",
              "        async function convertToInteractive(key) {\n",
              "          const element = document.querySelector('#df-64e33630-5a99-4f2d-848a-ecdc74338d56');\n",
              "          const dataTable =\n",
              "            await google.colab.kernel.invokeFunction('convertToInteractive',\n",
              "                                                     [key], {});\n",
              "          if (!dataTable) return;\n",
              "\n",
              "          const docLinkHtml = 'Like what you see? Visit the ' +\n",
              "            '<a target=\"_blank\" href=https://colab.research.google.com/notebooks/data_table.ipynb>data table notebook</a>'\n",
              "            + ' to learn more about interactive tables.';\n",
              "          element.innerHTML = '';\n",
              "          dataTable['output_type'] = 'display_data';\n",
              "          await google.colab.output.renderOutput(dataTable, element);\n",
              "          const docLink = document.createElement('div');\n",
              "          docLink.innerHTML = docLinkHtml;\n",
              "          element.appendChild(docLink);\n",
              "        }\n",
              "      </script>\n",
              "    </div>\n",
              "  </div>\n",
              "  "
            ]
          },
          "metadata": {},
          "execution_count": 12
        }
      ]
    },
    {
      "cell_type": "markdown",
      "source": [
        "## Multilinear Regression"
      ],
      "metadata": {
        "id": "aOE4u05ntujg"
      }
    },
    {
      "cell_type": "markdown",
      "source": [
        "Let's fit the regrssion model to our data."
      ],
      "metadata": {
        "id": "OQZ21TLsuaYW"
      }
    },
    {
      "cell_type": "code",
      "source": [
        "model = sm.OLS(y, X).fit()\n",
        "print(model.summary())"
      ],
      "metadata": {
        "colab": {
          "base_uri": "https://localhost:8080/"
        },
        "id": "ftXv_nWQvGiE",
        "outputId": "18af7376-7c59-462f-970c-f8d194f469f0"
      },
      "execution_count": null,
      "outputs": [
        {
          "output_type": "stream",
          "name": "stdout",
          "text": [
            "                            OLS Regression Results                            \n",
            "==============================================================================\n",
            "Dep. Variable:                 tsales   R-squared:                       0.317\n",
            "Model:                            OLS   Adj. R-squared:                  0.307\n",
            "Method:                 Least Squares   F-statistic:                     30.43\n",
            "Date:                Tue, 20 Jun 2023   Prob (F-statistic):           5.49e-30\n",
            "Time:                        12:17:20   Log-Likelihood:                -5801.5\n",
            "No. Observations:                 400   AIC:                         1.162e+04\n",
            "Df Residuals:                     393   BIC:                         1.164e+04\n",
            "Df Model:                           6                                         \n",
            "Covariance Type:            nonrobust                                         \n",
            "==============================================================================\n",
            "                 coef    std err          t      P>|t|      [0.025      0.975]\n",
            "------------------------------------------------------------------------------\n",
            "const      -2.408e+05   1.87e+05     -1.289      0.198   -6.08e+05    1.26e+05\n",
            "margin      1.276e+04   5379.556      2.372      0.018    2182.920    2.33e+04\n",
            "nown        6.607e+04   3.85e+04      1.715      0.087   -9665.587    1.42e+05\n",
            "inv1           0.2582      0.257      1.006      0.315      -0.246       0.763\n",
            "inv2           0.7214      0.669      1.079      0.281      -0.593       2.036\n",
            "ssize       2451.5143    230.611     10.631      0.000    1998.129    2904.899\n",
            "start       2089.1945   2106.771      0.992      0.322   -2052.757    6231.146\n",
            "==============================================================================\n",
            "Omnibus:                      263.187   Durbin-Watson:                   2.013\n",
            "Prob(Omnibus):                  0.000   Jarque-Bera (JB):             3443.531\n",
            "Skew:                           2.612   Prob(JB):                         0.00\n",
            "Kurtosis:                      16.391   Cond. No.                     9.71e+05\n",
            "==============================================================================\n",
            "\n",
            "Notes:\n",
            "[1] Standard Errors assume that the covariance matrix of the errors is correctly specified.\n",
            "[2] The condition number is large, 9.71e+05. This might indicate that there are\n",
            "strong multicollinearity or other numerical problems.\n"
          ]
        }
      ]
    },
    {
      "cell_type": "markdown",
      "source": [
        "We could observe the following from the summary:\n",
        "* Because we are having more than one independent variables, we look for `Adj. R-squared` value rather than `R-squared` value.\n",
        "* Low `Adj. R-squared` value, this is may be because we could see a great correlation between any independent variable and the `tslaes` variable.\n",
        "* `ssize` is statistically insignificant.\n",
        "* `margin` is positively correalted with `tsales`."
      ],
      "metadata": {
        "id": "OAJbcGU_vNwj"
      }
    },
    {
      "cell_type": "markdown",
      "source": [
        "## Accuracy Assessment"
      ],
      "metadata": {
        "id": "ORDQ1jGcxLz2"
      }
    },
    {
      "cell_type": "markdown",
      "source": [
        "But, first, let's make predictions using the multilinear regression model."
      ],
      "metadata": {
        "id": "0rjbT1RfxU16"
      }
    },
    {
      "cell_type": "code",
      "source": [
        "#predictions\n",
        "predictions = model.predict(X_test)\n",
        "predictions[:4]"
      ],
      "metadata": {
        "colab": {
          "base_uri": "https://localhost:8080/"
        },
        "id": "-3S2AEoGxocu",
        "outputId": "55181e15-00e0-4500-cf0f-e857076dd0cb"
      },
      "execution_count": null,
      "outputs": [
        {
          "output_type": "execute_result",
          "data": {
            "text/plain": [
              "42     8.218532e+05\n",
              "328    5.220312e+05\n",
              "218    1.283363e+06\n",
              "93     6.903497e+05\n",
              "dtype: float64"
            ]
          },
          "metadata": {},
          "execution_count": 14
        }
      ]
    },
    {
      "cell_type": "code",
      "source": [
        "#Accuracy assessment\n",
        "from sklearn.metrics import mean_absolute_error, mean_squared_error\n",
        "print(\"MAE:\", round(mean_absolute_error(y_test, predictions),1))\n",
        "print(\"RMSE:\", round(np.sqrt(mean_squared_error(y_test, predictions)), 1))"
      ],
      "metadata": {
        "colab": {
          "base_uri": "https://localhost:8080/"
        },
        "id": "1wyjW6xFymfj",
        "outputId": "24cbfb32-ab80-4412-82a6-86a289f8f602"
      },
      "execution_count": null,
      "outputs": [
        {
          "output_type": "stream",
          "name": "stdout",
          "text": [
            "MAE: 282586.3\n",
            "RMSE: 405471.2\n"
          ]
        }
      ]
    },
    {
      "cell_type": "markdown",
      "source": [
        "The MAE value of 282586.3 indicates the average absolute difference between the predicted values and the actual values. It represents the average magnitude of the errors in the predictions."
      ],
      "metadata": {
        "id": "u3J33RLl3mq3"
      }
    },
    {
      "cell_type": "markdown",
      "source": [
        "The RMSE value of 405471.2 represents the square root of the average squared differences between the predicted values and the actual values. RMSE is a measure of the overall model prediction error, giving more weight to larger errors"
      ],
      "metadata": {
        "id": "24G_hJi63p43"
      }
    },
    {
      "cell_type": "markdown",
      "source": [
        "The MAE and RMSE values indicate that, on average, the predictions from the multilinear regression model have a significant deviation from the actual values. The errors in the predictions are quite large, suggesting that the model might not be capturing the underlying relationships in the data effectively."
      ],
      "metadata": {
        "id": "VKWJj4Po3S6n"
      }
    }
  ]
}